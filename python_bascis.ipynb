{
 "cells": [
  {
   "cell_type": "code",
   "execution_count": 3,
   "id": "e82fac8c-64be-47d2-a815-121393c31c05",
   "metadata": {},
   "outputs": [],
   "source": [
    "# here we learn about list"
   ]
  },
  {
   "cell_type": "code",
   "execution_count": 4,
   "id": "53a2a050-2779-4c2d-a3f6-6418fbf798ab",
   "metadata": {},
   "outputs": [],
   "source": [
    "l = [\"aman\",45,78.0,True,3+4j]"
   ]
  },
  {
   "cell_type": "code",
   "execution_count": 5,
   "id": "ae4e5e6e-5aa8-4bb2-9487-e8c5f1e5232f",
   "metadata": {},
   "outputs": [
    {
     "name": "stdout",
     "output_type": "stream",
     "text": [
      "['aman', 45, 78.0, True, (3+4j)]\n"
     ]
    }
   ],
   "source": [
    "print(l)"
   ]
  },
  {
   "cell_type": "code",
   "execution_count": 6,
   "id": "e33f91b1-d156-421d-81d9-773d7f9a6a09",
   "metadata": {},
   "outputs": [
    {
     "name": "stdout",
     "output_type": "stream",
     "text": [
      "<class 'list'>\n"
     ]
    }
   ],
   "source": [
    "print(type(l))"
   ]
  },
  {
   "cell_type": "code",
   "execution_count": 7,
   "id": "1a289a14-2f59-402d-a05c-cd6fa0fe3bb7",
   "metadata": {},
   "outputs": [
    {
     "name": "stdout",
     "output_type": "stream",
     "text": [
      "78.0\n"
     ]
    }
   ],
   "source": [
    "print(l[2])"
   ]
  },
  {
   "cell_type": "code",
   "execution_count": 8,
   "id": "291c4feb-8ef1-4e80-b8bb-de78c79205ea",
   "metadata": {},
   "outputs": [
    {
     "name": "stdout",
     "output_type": "stream",
     "text": [
      "True\n"
     ]
    }
   ],
   "source": [
    "print(l[3])"
   ]
  },
  {
   "cell_type": "code",
   "execution_count": 9,
   "id": "9757f5c8-0853-4c44-9936-80610c5763a1",
   "metadata": {},
   "outputs": [
    {
     "name": "stdout",
     "output_type": "stream",
     "text": [
      "[45, 78.0, True]\n"
     ]
    }
   ],
   "source": [
    "print(l[1:4])"
   ]
  },
  {
   "cell_type": "code",
   "execution_count": 10,
   "id": "16e221a7-39ab-45c4-ba79-c8403624b08f",
   "metadata": {},
   "outputs": [
    {
     "data": {
      "text/plain": [
       "[(3+4j), True, 78.0, 45, 'aman']"
      ]
     },
     "execution_count": 10,
     "metadata": {},
     "output_type": "execute_result"
    }
   ],
   "source": [
    "l[-1:-8:-1]"
   ]
  },
  {
   "cell_type": "code",
   "execution_count": 11,
   "id": "834014ce-1677-4c34-8663-1fee4e35d0c5",
   "metadata": {},
   "outputs": [
    {
     "ename": "IndexError",
     "evalue": "list index out of range",
     "output_type": "error",
     "traceback": [
      "\u001b[0;31m---------------------------------------------------------------------------\u001b[0m",
      "\u001b[0;31mIndexError\u001b[0m                                Traceback (most recent call last)",
      "Cell \u001b[0;32mIn[11], line 1\u001b[0m\n\u001b[0;32m----> 1\u001b[0m \u001b[43ml\u001b[49m\u001b[43m[\u001b[49m\u001b[38;5;241;43m100\u001b[39;49m\u001b[43m]\u001b[49m\n",
      "\u001b[0;31mIndexError\u001b[0m: list index out of range"
     ]
    }
   ],
   "source": [
    "l[100]"
   ]
  },
  {
   "cell_type": "code",
   "execution_count": null,
   "id": "3840991e-fa12-42fb-a6e3-3b6834d058d2",
   "metadata": {},
   "outputs": [],
   "source": [
    "l"
   ]
  },
  {
   "cell_type": "code",
   "execution_count": null,
   "id": "c5339306-ef39-46d2-9103-9c3be5acb56f",
   "metadata": {},
   "outputs": [],
   "source": [
    "l"
   ]
  },
  {
   "cell_type": "code",
   "execution_count": null,
   "id": "6e28823c-4bd9-4faa-a0c7-3c5dddfc06dd",
   "metadata": {},
   "outputs": [],
   "source": [
    "l[0:4]"
   ]
  },
  {
   "cell_type": "code",
   "execution_count": null,
   "id": "4cfb60c1-8419-4400-b67a-04a4a981ae0d",
   "metadata": {},
   "outputs": [],
   "source": [
    "l[0:3]"
   ]
  },
  {
   "cell_type": "code",
   "execution_count": null,
   "id": "e68a5231-e502-4066-9147-9812468aafde",
   "metadata": {},
   "outputs": [],
   "source": [
    "l[::-1]"
   ]
  },
  {
   "cell_type": "code",
   "execution_count": null,
   "id": "e842fd9e-1647-4d71-9dc1-93d48223a1c8",
   "metadata": {},
   "outputs": [],
   "source": [
    "l[2:6:2]"
   ]
  },
  {
   "cell_type": "code",
   "execution_count": 12,
   "id": "5063346d-20ca-4a6b-a6cc-53274cea44eb",
   "metadata": {},
   "outputs": [],
   "source": [
    "s = \"aman\""
   ]
  },
  {
   "cell_type": "code",
   "execution_count": 13,
   "id": "6f45e9d6-d0e0-426b-b279-48d27a3b8b8c",
   "metadata": {},
   "outputs": [
    {
     "ename": "IndexError",
     "evalue": "list assignment index out of range",
     "output_type": "error",
     "traceback": [
      "\u001b[0;31m---------------------------------------------------------------------------\u001b[0m",
      "\u001b[0;31mIndexError\u001b[0m                                Traceback (most recent call last)",
      "Cell \u001b[0;32mIn[13], line 1\u001b[0m\n\u001b[0;32m----> 1\u001b[0m \u001b[43ml\u001b[49m\u001b[43m[\u001b[49m\u001b[38;5;241;43m5\u001b[39;49m\u001b[43m]\u001b[49m \u001b[38;5;241m=\u001b[39m s\n",
      "\u001b[0;31mIndexError\u001b[0m: list assignment index out of range"
     ]
    }
   ],
   "source": [
    "l[5] = s"
   ]
  },
  {
   "cell_type": "code",
   "execution_count": 14,
   "id": "a55420ad-d3a8-44c5-961f-ddd7711ac76a",
   "metadata": {},
   "outputs": [
    {
     "data": {
      "text/plain": [
       "['aman', 45, 78.0, True, (3+4j)]"
      ]
     },
     "execution_count": 14,
     "metadata": {},
     "output_type": "execute_result"
    }
   ],
   "source": [
    "l"
   ]
  },
  {
   "cell_type": "code",
   "execution_count": 15,
   "id": "3e578bec-6d57-49c2-814c-e3008866b278",
   "metadata": {},
   "outputs": [],
   "source": [
    "l[3] = 23.4"
   ]
  },
  {
   "cell_type": "code",
   "execution_count": 16,
   "id": "ffdd4c31-c74e-40c5-8607-51a43816fed1",
   "metadata": {},
   "outputs": [
    {
     "data": {
      "text/plain": [
       "['aman', 45, 78.0, 23.4, (3+4j)]"
      ]
     },
     "execution_count": 16,
     "metadata": {},
     "output_type": "execute_result"
    }
   ],
   "source": [
    "l"
   ]
  },
  {
   "cell_type": "code",
   "execution_count": 17,
   "id": "95aa348c-4fea-4110-b4be-298e28e24868",
   "metadata": {},
   "outputs": [],
   "source": [
    "l[3] = False"
   ]
  },
  {
   "cell_type": "code",
   "execution_count": 18,
   "id": "021766c5-94a7-4b75-9983-84dd04036b46",
   "metadata": {},
   "outputs": [
    {
     "data": {
      "text/plain": [
       "['aman', 45, 78.0, False, (3+4j)]"
      ]
     },
     "execution_count": 18,
     "metadata": {},
     "output_type": "execute_result"
    }
   ],
   "source": [
    "l"
   ]
  },
  {
   "cell_type": "code",
   "execution_count": 19,
   "id": "bac0fa3e-7da8-41c2-9f08-8772a1279aaa",
   "metadata": {},
   "outputs": [
    {
     "ename": "TypeError",
     "evalue": "'complex' object is not subscriptable",
     "output_type": "error",
     "traceback": [
      "\u001b[0;31m---------------------------------------------------------------------------\u001b[0m",
      "\u001b[0;31mTypeError\u001b[0m                                 Traceback (most recent call last)",
      "Cell \u001b[0;32mIn[19], line 1\u001b[0m\n\u001b[0;32m----> 1\u001b[0m \u001b[43ml\u001b[49m\u001b[43m[\u001b[49m\u001b[38;5;241;43m4\u001b[39;49m\u001b[43m]\u001b[49m\u001b[43m[\u001b[49m\u001b[38;5;241;43m0\u001b[39;49m\u001b[43m:\u001b[49m\u001b[38;5;241;43m2\u001b[39;49m\u001b[43m]\u001b[49m\n",
      "\u001b[0;31mTypeError\u001b[0m: 'complex' object is not subscriptable"
     ]
    }
   ],
   "source": [
    "l[4][0:2]"
   ]
  },
  {
   "cell_type": "code",
   "execution_count": 20,
   "id": "bfe27c05-defe-481c-afe0-f3e0ea122c3a",
   "metadata": {},
   "outputs": [
    {
     "ename": "TypeError",
     "evalue": "'int' object is not subscriptable",
     "output_type": "error",
     "traceback": [
      "\u001b[0;31m---------------------------------------------------------------------------\u001b[0m",
      "\u001b[0;31mTypeError\u001b[0m                                 Traceback (most recent call last)",
      "Cell \u001b[0;32mIn[20], line 1\u001b[0m\n\u001b[0;32m----> 1\u001b[0m \u001b[43ml\u001b[49m\u001b[43m[\u001b[49m\u001b[38;5;241;43m1\u001b[39;49m\u001b[43m]\u001b[49m\u001b[43m[\u001b[49m\u001b[38;5;241;43m0\u001b[39;49m\u001b[43m:\u001b[49m\u001b[38;5;241;43m2\u001b[39;49m\u001b[43m]\u001b[49m\n",
      "\u001b[0;31mTypeError\u001b[0m: 'int' object is not subscriptable"
     ]
    }
   ],
   "source": [
    "l[1][0:2]"
   ]
  },
  {
   "cell_type": "code",
   "execution_count": 21,
   "id": "9369fdea-0bd0-49a1-b165-390711f2c600",
   "metadata": {},
   "outputs": [
    {
     "data": {
      "text/plain": [
       "['aman', 45, 78.0, False, (3+4j)]"
      ]
     },
     "execution_count": 21,
     "metadata": {},
     "output_type": "execute_result"
    }
   ],
   "source": [
    "l"
   ]
  },
  {
   "cell_type": "code",
   "execution_count": 22,
   "id": "33e13e98-91ab-4b99-a351-916d8533bb52",
   "metadata": {},
   "outputs": [
    {
     "ename": "TypeError",
     "evalue": "'int' object is not subscriptable",
     "output_type": "error",
     "traceback": [
      "\u001b[0;31m---------------------------------------------------------------------------\u001b[0m",
      "\u001b[0;31mTypeError\u001b[0m                                 Traceback (most recent call last)",
      "Cell \u001b[0;32mIn[22], line 1\u001b[0m\n\u001b[0;32m----> 1\u001b[0m \u001b[43ml\u001b[49m\u001b[43m[\u001b[49m\u001b[38;5;241;43m1\u001b[39;49m\u001b[43m]\u001b[49m\u001b[43m[\u001b[49m\u001b[38;5;241;43m0\u001b[39;49m\u001b[43m:\u001b[49m\u001b[38;5;241;43m3\u001b[39;49m\u001b[43m]\u001b[49m\n",
      "\u001b[0;31mTypeError\u001b[0m: 'int' object is not subscriptable"
     ]
    }
   ],
   "source": [
    "l[1][0:3]"
   ]
  },
  {
   "cell_type": "code",
   "execution_count": 23,
   "id": "98b7b1aa-2f76-4b2f-9b52-738b1ca4332a",
   "metadata": {},
   "outputs": [
    {
     "data": {
      "text/plain": [
       "['aman', 45, 78.0, False, (3+4j)]"
      ]
     },
     "execution_count": 23,
     "metadata": {},
     "output_type": "execute_result"
    }
   ],
   "source": [
    "l"
   ]
  },
  {
   "cell_type": "code",
   "execution_count": 24,
   "id": "37627a66-b899-48c6-851f-a39f119da9a1",
   "metadata": {},
   "outputs": [
    {
     "data": {
      "text/plain": [
       "int"
      ]
     },
     "execution_count": 24,
     "metadata": {},
     "output_type": "execute_result"
    }
   ],
   "source": [
    "type(l[1])"
   ]
  },
  {
   "cell_type": "code",
   "execution_count": 25,
   "id": "79e3e8d5-977d-48a2-ae49-bad5530eb5fc",
   "metadata": {},
   "outputs": [
    {
     "data": {
      "text/plain": [
       "str"
      ]
     },
     "execution_count": 25,
     "metadata": {},
     "output_type": "execute_result"
    }
   ],
   "source": [
    "type(l[0])"
   ]
  },
  {
   "cell_type": "code",
   "execution_count": 26,
   "id": "8b09681b-2f2d-4f66-9788-0041fcc251ad",
   "metadata": {},
   "outputs": [
    {
     "data": {
      "text/plain": [
       "'am'"
      ]
     },
     "execution_count": 26,
     "metadata": {},
     "output_type": "execute_result"
    }
   ],
   "source": [
    "l[0][0:2]"
   ]
  },
  {
   "cell_type": "code",
   "execution_count": 27,
   "id": "83ee2ff8-49fa-448b-b072-770f5b3fe763",
   "metadata": {},
   "outputs": [
    {
     "data": {
      "text/plain": [
       "['aman', 45, 78.0, False, (3+4j)]"
      ]
     },
     "execution_count": 27,
     "metadata": {},
     "output_type": "execute_result"
    }
   ],
   "source": [
    "l"
   ]
  },
  {
   "cell_type": "code",
   "execution_count": 28,
   "id": "017d7ee6-1097-4ebd-b45a-68aa25330168",
   "metadata": {},
   "outputs": [
    {
     "ename": "TypeError",
     "evalue": "'bool' object is not subscriptable",
     "output_type": "error",
     "traceback": [
      "\u001b[0;31m---------------------------------------------------------------------------\u001b[0m",
      "\u001b[0;31mTypeError\u001b[0m                                 Traceback (most recent call last)",
      "Cell \u001b[0;32mIn[28], line 1\u001b[0m\n\u001b[0;32m----> 1\u001b[0m \u001b[43ml\u001b[49m\u001b[43m[\u001b[49m\u001b[38;5;241;43m3\u001b[39;49m\u001b[43m]\u001b[49m\u001b[43m[\u001b[49m\u001b[38;5;241;43m0\u001b[39;49m\u001b[43m:\u001b[49m\u001b[38;5;241;43m2\u001b[39;49m\u001b[43m]\u001b[49m\n",
      "\u001b[0;31mTypeError\u001b[0m: 'bool' object is not subscriptable"
     ]
    }
   ],
   "source": [
    "l[3][0:2]"
   ]
  },
  {
   "cell_type": "code",
   "execution_count": 29,
   "id": "1628255e-9dc3-4a71-8483-119c24203cfb",
   "metadata": {},
   "outputs": [
    {
     "ename": "SyntaxError",
     "evalue": "incomplete input (2510325647.py, line 1)",
     "output_type": "error",
     "traceback": [
      "\u001b[0;36m  Cell \u001b[0;32mIn[29], line 1\u001b[0;36m\u001b[0m\n\u001b[0;31m    type(str(l[3])\u001b[0m\n\u001b[0m                  ^\u001b[0m\n\u001b[0;31mSyntaxError\u001b[0m\u001b[0;31m:\u001b[0m incomplete input\n"
     ]
    }
   ],
   "source": [
    "type(str(l[3])"
   ]
  },
  {
   "cell_type": "code",
   "execution_count": 30,
   "id": "c32fea26-5839-4e47-8679-d5d2af06f0ce",
   "metadata": {},
   "outputs": [
    {
     "data": {
      "text/plain": [
       "'Fa'"
      ]
     },
     "execution_count": 30,
     "metadata": {},
     "output_type": "execute_result"
    }
   ],
   "source": [
    "str(l[3])[0:2]"
   ]
  },
  {
   "cell_type": "code",
   "execution_count": 31,
   "id": "1552adec-71c1-4e97-a974-88af0c317550",
   "metadata": {},
   "outputs": [
    {
     "data": {
      "text/plain": [
       "bool"
      ]
     },
     "execution_count": 31,
     "metadata": {},
     "output_type": "execute_result"
    }
   ],
   "source": [
    "type(l[3])"
   ]
  },
  {
   "cell_type": "code",
   "execution_count": 32,
   "id": "34e38dc5-c0c8-4fb8-9339-45ce696fa569",
   "metadata": {},
   "outputs": [],
   "source": [
    "a = [5]"
   ]
  },
  {
   "cell_type": "code",
   "execution_count": 33,
   "id": "7dcb3eb7-f22f-4a22-914f-6056d0f1c2d8",
   "metadata": {},
   "outputs": [
    {
     "data": {
      "text/plain": [
       "['aman', 45, 78.0, False, (3+4j), 5]"
      ]
     },
     "execution_count": 33,
     "metadata": {},
     "output_type": "execute_result"
    }
   ],
   "source": [
    "l+a"
   ]
  },
  {
   "cell_type": "code",
   "execution_count": 34,
   "id": "b36b06ae-b1c2-4f28-a7c0-014ef9d67bd3",
   "metadata": {},
   "outputs": [
    {
     "data": {
      "text/plain": [
       "['aman',\n",
       " 45,\n",
       " 78.0,\n",
       " False,\n",
       " (3+4j),\n",
       " 'aman',\n",
       " 45,\n",
       " 78.0,\n",
       " False,\n",
       " (3+4j),\n",
       " 'aman',\n",
       " 45,\n",
       " 78.0,\n",
       " False,\n",
       " (3+4j)]"
      ]
     },
     "execution_count": 34,
     "metadata": {},
     "output_type": "execute_result"
    }
   ],
   "source": [
    "l*3"
   ]
  },
  {
   "cell_type": "code",
   "execution_count": 35,
   "id": "7a22096a-ef0d-46c2-94e0-0893a3ea3793",
   "metadata": {},
   "outputs": [
    {
     "data": {
      "text/plain": [
       "['aman', 45, 78.0, False, (3+4j)]"
      ]
     },
     "execution_count": 35,
     "metadata": {},
     "output_type": "execute_result"
    }
   ],
   "source": [
    "l"
   ]
  },
  {
   "cell_type": "code",
   "execution_count": 36,
   "id": "d4c44dca-27b1-4c21-9acd-c4f71913e717",
   "metadata": {},
   "outputs": [
    {
     "name": "stdout",
     "output_type": "stream",
     "text": [
      "5\n"
     ]
    }
   ],
   "source": [
    "print(len(l))"
   ]
  },
  {
   "cell_type": "code",
   "execution_count": 37,
   "id": "28beed3d-e1cc-477f-a77c-b2c544c64f3f",
   "metadata": {},
   "outputs": [],
   "source": [
    "l.append(67)"
   ]
  },
  {
   "cell_type": "code",
   "execution_count": 38,
   "id": "35ec3336-1c74-4235-854a-0e2c7a903734",
   "metadata": {},
   "outputs": [
    {
     "data": {
      "text/plain": [
       "['aman', 45, 78.0, False, (3+4j), 67]"
      ]
     },
     "execution_count": 38,
     "metadata": {},
     "output_type": "execute_result"
    }
   ],
   "source": [
    "l"
   ]
  },
  {
   "cell_type": "code",
   "execution_count": 39,
   "id": "d60c211f-7815-4179-ba07-7ba0d6e8d9e9",
   "metadata": {},
   "outputs": [
    {
     "data": {
      "text/plain": [
       "['aman', 45, 78.0, False, (3+4j), 67]"
      ]
     },
     "execution_count": 39,
     "metadata": {},
     "output_type": "execute_result"
    }
   ],
   "source": [
    "l"
   ]
  },
  {
   "cell_type": "code",
   "execution_count": 40,
   "id": "3b561b5e-4aa2-4717-aeb5-6faf96e03530",
   "metadata": {},
   "outputs": [],
   "source": [
    "l.append(\"bagh\")"
   ]
  },
  {
   "cell_type": "code",
   "execution_count": 41,
   "id": "cc982ac7-fbe4-40d2-801c-c86c3e95b6e8",
   "metadata": {},
   "outputs": [
    {
     "data": {
      "text/plain": [
       "['aman', 45, 78.0, False, (3+4j), 67, 'bagh']"
      ]
     },
     "execution_count": 41,
     "metadata": {},
     "output_type": "execute_result"
    }
   ],
   "source": [
    "l"
   ]
  },
  {
   "cell_type": "code",
   "execution_count": 42,
   "id": "1b89144f-a827-419b-ac8a-42071c5e2862",
   "metadata": {},
   "outputs": [
    {
     "ename": "AttributeError",
     "evalue": "'list' object has no attribute 'delete'",
     "output_type": "error",
     "traceback": [
      "\u001b[0;31m---------------------------------------------------------------------------\u001b[0m",
      "\u001b[0;31mAttributeError\u001b[0m                            Traceback (most recent call last)",
      "Cell \u001b[0;32mIn[42], line 1\u001b[0m\n\u001b[0;32m----> 1\u001b[0m \u001b[43ml\u001b[49m\u001b[38;5;241;43m.\u001b[39;49m\u001b[43mdelete\u001b[49m(\u001b[38;5;124m\"\u001b[39m\u001b[38;5;124maman\u001b[39m\u001b[38;5;124m\"\u001b[39m)\n",
      "\u001b[0;31mAttributeError\u001b[0m: 'list' object has no attribute 'delete'"
     ]
    }
   ],
   "source": [
    "l.delete(\"aman\")"
   ]
  },
  {
   "cell_type": "code",
   "execution_count": 43,
   "id": "180108c4-7bfd-42a3-a4fc-34cabcd96b65",
   "metadata": {},
   "outputs": [
    {
     "ename": "SyntaxError",
     "evalue": "unterminated string literal (detected at line 1) (3736181830.py, line 1)",
     "output_type": "error",
     "traceback": [
      "\u001b[0;36m  Cell \u001b[0;32mIn[43], line 1\u001b[0;36m\u001b[0m\n\u001b[0;31m    l\"\u001b[0m\n\u001b[0m     ^\u001b[0m\n\u001b[0;31mSyntaxError\u001b[0m\u001b[0;31m:\u001b[0m unterminated string literal (detected at line 1)\n"
     ]
    }
   ],
   "source": [
    "l\""
   ]
  },
  {
   "cell_type": "code",
   "execution_count": 44,
   "id": "02772729-a6da-44d6-bb2a-1cc9e49d60cf",
   "metadata": {},
   "outputs": [
    {
     "data": {
      "text/plain": [
       "['aman', 45, 78.0, False, (3+4j), 67, 'bagh']"
      ]
     },
     "execution_count": 44,
     "metadata": {},
     "output_type": "execute_result"
    }
   ],
   "source": [
    "l"
   ]
  },
  {
   "cell_type": "code",
   "execution_count": 45,
   "id": "3b230cd4-2d3d-4dc8-9bc1-ab6f900c132c",
   "metadata": {},
   "outputs": [],
   "source": [
    "l = ['aman', 45, 78.0, False, (3+4j), 67, 'bagh']"
   ]
  },
  {
   "cell_type": "code",
   "execution_count": 46,
   "id": "831c9a0f-798a-450f-ab3c-6435c5e1245e",
   "metadata": {},
   "outputs": [
    {
     "data": {
      "text/plain": [
       "['aman', 45, 78.0, False, (3+4j), 67, 'bagh']"
      ]
     },
     "execution_count": 46,
     "metadata": {},
     "output_type": "execute_result"
    }
   ],
   "source": [
    "l"
   ]
  },
  {
   "cell_type": "code",
   "execution_count": 47,
   "id": "80596f11-ce9a-4ecd-923d-88bfe6e88d29",
   "metadata": {},
   "outputs": [],
   "source": [
    "l1 = [1,2,3,4,5,6,7,8,9]"
   ]
  },
  {
   "cell_type": "code",
   "execution_count": 48,
   "id": "048dd611-633a-4bd4-a9f4-f10b56e45d63",
   "metadata": {},
   "outputs": [],
   "source": [
    "l.clear()"
   ]
  },
  {
   "cell_type": "code",
   "execution_count": 49,
   "id": "64ae6259-9a34-4e24-b133-05e611ceacfc",
   "metadata": {},
   "outputs": [],
   "source": [
    "l = ['aman', 45, 78.0, False, (3+4j), 67, 'bagh']"
   ]
  },
  {
   "cell_type": "code",
   "execution_count": 50,
   "id": "1b34661a-81ac-49dc-bc72-e41405ef47da",
   "metadata": {},
   "outputs": [
    {
     "name": "stdout",
     "output_type": "stream",
     "text": [
      "None\n"
     ]
    }
   ],
   "source": [
    "print(l.append(l1))"
   ]
  },
  {
   "cell_type": "code",
   "execution_count": 51,
   "id": "81f1a3ec-fe38-4409-8011-fc77f7dbfe0d",
   "metadata": {},
   "outputs": [
    {
     "data": {
      "text/plain": [
       "['aman', 45, 78.0, False, (3+4j), 67, 'bagh', [1, 2, 3, 4, 5, 6, 7, 8, 9]]"
      ]
     },
     "execution_count": 51,
     "metadata": {},
     "output_type": "execute_result"
    }
   ],
   "source": [
    "l"
   ]
  },
  {
   "cell_type": "code",
   "execution_count": 52,
   "id": "a95e5370-cbff-459c-ae33-3efd2e5a0271",
   "metadata": {},
   "outputs": [],
   "source": [
    "l.append(l1)"
   ]
  },
  {
   "cell_type": "code",
   "execution_count": 53,
   "id": "c8f4da44-c7eb-4d7f-a45f-afd3f7167d30",
   "metadata": {},
   "outputs": [
    {
     "name": "stdout",
     "output_type": "stream",
     "text": [
      "['aman', 45, 78.0, False, (3+4j), 67, 'bagh', [1, 2, 3, 4, 5, 6, 7, 8, 9], [1, 2, 3, 4, 5, 6, 7, 8, 9]]\n"
     ]
    }
   ],
   "source": [
    "print(l)"
   ]
  },
  {
   "cell_type": "code",
   "execution_count": 54,
   "id": "cec42a8c-0c85-4882-8e04-b3cb2718e1b8",
   "metadata": {},
   "outputs": [
    {
     "data": {
      "text/plain": [
       "[1, 2, 3, 4, 5, 6, 7, 8, 9]"
      ]
     },
     "execution_count": 54,
     "metadata": {},
     "output_type": "execute_result"
    }
   ],
   "source": [
    "l[-2]"
   ]
  },
  {
   "cell_type": "code",
   "execution_count": 55,
   "id": "54059bc7-c308-4f6b-b555-7e80832d0d8b",
   "metadata": {},
   "outputs": [
    {
     "data": {
      "text/plain": [
       "4"
      ]
     },
     "execution_count": 55,
     "metadata": {},
     "output_type": "execute_result"
    }
   ],
   "source": [
    "l[-2][3]"
   ]
  },
  {
   "cell_type": "code",
   "execution_count": 56,
   "id": "6a0db634-dcbe-42ef-aa93-7d07b786628a",
   "metadata": {},
   "outputs": [
    {
     "data": {
      "text/plain": [
       "['aman',\n",
       " 45,\n",
       " 78.0,\n",
       " False,\n",
       " (3+4j),\n",
       " 67,\n",
       " 'bagh',\n",
       " [1, 2, 3, 4, 5, 6, 7, 8, 9],\n",
       " [1, 2, 3, 4, 5, 6, 7, 8, 9]]"
      ]
     },
     "execution_count": 56,
     "metadata": {},
     "output_type": "execute_result"
    }
   ],
   "source": [
    "l"
   ]
  },
  {
   "cell_type": "code",
   "execution_count": 57,
   "id": "1cf42f5f-1961-4ace-9ff8-e553a88dcb54",
   "metadata": {},
   "outputs": [
    {
     "data": {
      "text/plain": [
       "['aman',\n",
       " 45,\n",
       " 78.0,\n",
       " False,\n",
       " (3+4j),\n",
       " 67,\n",
       " 'bagh',\n",
       " [1, 2, 3, 4, 5, 6, 7, 8, 9],\n",
       " [1, 2, 3, 4, 5, 6, 7, 8, 9]]"
      ]
     },
     "execution_count": 57,
     "metadata": {},
     "output_type": "execute_result"
    }
   ],
   "source": [
    "l"
   ]
  },
  {
   "cell_type": "code",
   "execution_count": 58,
   "id": "52a711c4-3da8-4b7d-85c4-af0ca14dd7f8",
   "metadata": {},
   "outputs": [],
   "source": [
    "l.extend(\"raja\")"
   ]
  },
  {
   "cell_type": "code",
   "execution_count": 59,
   "id": "588f46f9-de8f-4ff4-bd1e-b5ecc7dcaa04",
   "metadata": {},
   "outputs": [
    {
     "data": {
      "text/plain": [
       "['aman',\n",
       " 45,\n",
       " 78.0,\n",
       " False,\n",
       " (3+4j),\n",
       " 67,\n",
       " 'bagh',\n",
       " [1, 2, 3, 4, 5, 6, 7, 8, 9],\n",
       " [1, 2, 3, 4, 5, 6, 7, 8, 9],\n",
       " 'r',\n",
       " 'a',\n",
       " 'j',\n",
       " 'a']"
      ]
     },
     "execution_count": 59,
     "metadata": {},
     "output_type": "execute_result"
    }
   ],
   "source": [
    "l"
   ]
  },
  {
   "cell_type": "code",
   "execution_count": 60,
   "id": "9dde85be-44c3-4d7b-b180-965e826e533d",
   "metadata": {},
   "outputs": [
    {
     "data": {
      "text/plain": [
       "['aman',\n",
       " 45,\n",
       " 78.0,\n",
       " False,\n",
       " (3+4j),\n",
       " 67,\n",
       " 'bagh',\n",
       " [1, 2, 3, 4, 5, 6, 7, 8, 9],\n",
       " [1, 2, 3, 4, 5, 6, 7, 8, 9],\n",
       " 'r',\n",
       " 'a',\n",
       " 'j',\n",
       " 'a']"
      ]
     },
     "execution_count": 60,
     "metadata": {},
     "output_type": "execute_result"
    }
   ],
   "source": [
    "l"
   ]
  },
  {
   "cell_type": "code",
   "execution_count": 61,
   "id": "8d92a4e9-9e88-40eb-a30b-35cedbd8a88f",
   "metadata": {},
   "outputs": [
    {
     "data": {
      "text/plain": [
       "[1, 2, 3, 4, 5, 6, 7, 8, 9]"
      ]
     },
     "execution_count": 61,
     "metadata": {},
     "output_type": "execute_result"
    }
   ],
   "source": [
    "l1"
   ]
  },
  {
   "cell_type": "code",
   "execution_count": 62,
   "id": "bf6b9fc1-2667-4f16-9015-f950abf4be27",
   "metadata": {},
   "outputs": [],
   "source": [
    "l.extend(l1)"
   ]
  },
  {
   "cell_type": "code",
   "execution_count": 63,
   "id": "d6a1daac-9d7c-4be0-90be-7e30e71b64f0",
   "metadata": {},
   "outputs": [
    {
     "data": {
      "text/plain": [
       "['aman',\n",
       " 45,\n",
       " 78.0,\n",
       " False,\n",
       " (3+4j),\n",
       " 67,\n",
       " 'bagh',\n",
       " [1, 2, 3, 4, 5, 6, 7, 8, 9],\n",
       " [1, 2, 3, 4, 5, 6, 7, 8, 9],\n",
       " 'r',\n",
       " 'a',\n",
       " 'j',\n",
       " 'a',\n",
       " 1,\n",
       " 2,\n",
       " 3,\n",
       " 4,\n",
       " 5,\n",
       " 6,\n",
       " 7,\n",
       " 8,\n",
       " 9]"
      ]
     },
     "execution_count": 63,
     "metadata": {},
     "output_type": "execute_result"
    }
   ],
   "source": [
    "l"
   ]
  },
  {
   "cell_type": "code",
   "execution_count": 68,
   "id": "9b04b433-ad94-4321-924a-ff32c132c63c",
   "metadata": {},
   "outputs": [],
   "source": [
    "l.insert(0,\"varsha\")"
   ]
  },
  {
   "cell_type": "code",
   "execution_count": 71,
   "id": "c91f3fd5-599e-4aa3-8562-8dffa5dde79d",
   "metadata": {},
   "outputs": [
    {
     "data": {
      "text/plain": [
       "24"
      ]
     },
     "execution_count": 71,
     "metadata": {},
     "output_type": "execute_result"
    }
   ],
   "source": [
    "len(l)"
   ]
  },
  {
   "cell_type": "code",
   "execution_count": 72,
   "id": "c023c7b6-7a2b-43b4-b239-59100e50e6e5",
   "metadata": {},
   "outputs": [
    {
     "data": {
      "text/plain": [
       "['varsha',\n",
       " 'aman',\n",
       " 'varsha',\n",
       " 45,\n",
       " 78.0,\n",
       " False,\n",
       " (3+4j),\n",
       " 67,\n",
       " 'bagh',\n",
       " [1, 'varsha', 'varsha', 2, 3, 4, 5, 6, 7, 8, 9],\n",
       " [1, 'varsha', 'varsha', 2, 3, 4, 5, 6, 7, 8, 9],\n",
       " 'r',\n",
       " 'a',\n",
       " 'j',\n",
       " 'a',\n",
       " 1,\n",
       " 2,\n",
       " 3,\n",
       " 4,\n",
       " 5,\n",
       " 6,\n",
       " 7,\n",
       " 8,\n",
       " 9]"
      ]
     },
     "execution_count": 72,
     "metadata": {},
     "output_type": "execute_result"
    }
   ],
   "source": [
    "l"
   ]
  },
  {
   "cell_type": "code",
   "execution_count": 76,
   "id": "ae887ed9-3f6e-4dc1-abba-0bcaaea67eb1",
   "metadata": {},
   "outputs": [],
   "source": [
    "l3 = [\"aman\",\"007\"]"
   ]
  },
  {
   "cell_type": "code",
   "execution_count": 78,
   "id": "0b970d42-3f17-4e2b-a6c4-5f25fce6aaa4",
   "metadata": {},
   "outputs": [],
   "source": [
    "l3.insert(1,\"raja\")"
   ]
  },
  {
   "cell_type": "code",
   "execution_count": 79,
   "id": "e0730f40-4009-4d0f-b12c-4ae21e496852",
   "metadata": {},
   "outputs": [
    {
     "data": {
      "text/plain": [
       "['aman', 'raja', '007']"
      ]
     },
     "execution_count": 79,
     "metadata": {},
     "output_type": "execute_result"
    }
   ],
   "source": [
    "l3"
   ]
  },
  {
   "cell_type": "code",
   "execution_count": 88,
   "id": "d29816f8-79f8-449a-a0b7-d1be353bc1a1",
   "metadata": {},
   "outputs": [],
   "source": [
    "l3.extend(l1)"
   ]
  },
  {
   "cell_type": "code",
   "execution_count": 89,
   "id": "9c74355b-5a6c-4f2d-a800-89e9de1967ea",
   "metadata": {},
   "outputs": [
    {
     "data": {
      "text/plain": [
       "['aman',\n",
       " 'raja',\n",
       " '007',\n",
       " [1, 'varsha', 'varsha', 2, 3, 4, 5, 6, 7, 8, 9],\n",
       " [1, 'varsha', 'varsha', 2, 3, 4, 5, 6, 7, 8, 9],\n",
       " 1,\n",
       " 'varsha',\n",
       " 'varsha',\n",
       " 2,\n",
       " 3,\n",
       " 4,\n",
       " 5,\n",
       " 6,\n",
       " 7,\n",
       " 8,\n",
       " 9,\n",
       " 1,\n",
       " 'varsha',\n",
       " 'varsha',\n",
       " 2,\n",
       " 3,\n",
       " 4,\n",
       " 5,\n",
       " 6,\n",
       " 7,\n",
       " 8,\n",
       " 9]"
      ]
     },
     "execution_count": 89,
     "metadata": {},
     "output_type": "execute_result"
    }
   ],
   "source": [
    "l3"
   ]
  },
  {
   "cell_type": "code",
   "execution_count": 90,
   "id": "f7525e0f-75ff-4113-a5bc-a59a4f1e3bc7",
   "metadata": {},
   "outputs": [],
   "source": [
    "l3.clear()"
   ]
  },
  {
   "cell_type": "code",
   "execution_count": 91,
   "id": "58d03e70-1b34-4469-95bf-4672b55a5f55",
   "metadata": {},
   "outputs": [
    {
     "data": {
      "text/plain": [
       "[]"
      ]
     },
     "execution_count": 91,
     "metadata": {},
     "output_type": "execute_result"
    }
   ],
   "source": [
    "l3"
   ]
  },
  {
   "cell_type": "code",
   "execution_count": 92,
   "id": "1cafcb46-0b75-4e5c-91ee-cb5eb3bb1933",
   "metadata": {},
   "outputs": [],
   "source": [
    "l3 = [\"aman\",\"007\"]"
   ]
  },
  {
   "cell_type": "code",
   "execution_count": 93,
   "id": "32db027e-133b-470f-bb21-82b0d8a7d9f2",
   "metadata": {},
   "outputs": [
    {
     "data": {
      "text/plain": [
       "['aman', '007']"
      ]
     },
     "execution_count": 93,
     "metadata": {},
     "output_type": "execute_result"
    }
   ],
   "source": [
    "l3"
   ]
  },
  {
   "cell_type": "code",
   "execution_count": 94,
   "id": "e986bd37-8d54-411b-8202-7448547634d9",
   "metadata": {},
   "outputs": [],
   "source": [
    "l3.insert(1,\"raja\")"
   ]
  },
  {
   "cell_type": "code",
   "execution_count": 95,
   "id": "33824b64-d39b-4049-a504-a63232912366",
   "metadata": {},
   "outputs": [
    {
     "data": {
      "text/plain": [
       "['aman', 'raja', '007']"
      ]
     },
     "execution_count": 95,
     "metadata": {},
     "output_type": "execute_result"
    }
   ],
   "source": [
    "l3"
   ]
  },
  {
   "cell_type": "code",
   "execution_count": 96,
   "id": "026e5a21-73d0-4923-891c-3c30f089ec25",
   "metadata": {},
   "outputs": [
    {
     "name": "stdout",
     "output_type": "stream",
     "text": [
      "['aman', 'raja', '007']\n"
     ]
    }
   ],
   "source": [
    "print(l3)"
   ]
  },
  {
   "cell_type": "code",
   "execution_count": 97,
   "id": "b5612c1e-6cfd-4cdf-895f-4f4d5704abcb",
   "metadata": {},
   "outputs": [],
   "source": [
    "# here i  use -1 index means the at the position where 007 present this insert index \n",
    "# place the varsha at the 007 place and the 007 will moved forward\n",
    "l3.insert(-1,\"varsha\")"
   ]
  },
  {
   "cell_type": "code",
   "execution_count": 98,
   "id": "8a2348a9-828e-4235-ae6e-9260e0459a68",
   "metadata": {},
   "outputs": [
    {
     "data": {
      "text/plain": [
       "['aman', 'raja', 'varsha', '007']"
      ]
     },
     "execution_count": 98,
     "metadata": {},
     "output_type": "execute_result"
    }
   ],
   "source": [
    "l3"
   ]
  },
  {
   "cell_type": "code",
   "execution_count": 100,
   "id": "10798a5a-c037-410e-b7e6-f1b2af0df102",
   "metadata": {},
   "outputs": [
    {
     "data": {
      "text/plain": [
       "'007'"
      ]
     },
     "execution_count": 100,
     "metadata": {},
     "output_type": "execute_result"
    }
   ],
   "source": [
    "l3.pop()"
   ]
  },
  {
   "cell_type": "code",
   "execution_count": 101,
   "id": "7d640304-efa6-4371-9e5f-07f51ce65267",
   "metadata": {},
   "outputs": [
    {
     "data": {
      "text/plain": [
       "['aman', 'raja', 'varsha']"
      ]
     },
     "execution_count": 101,
     "metadata": {},
     "output_type": "execute_result"
    }
   ],
   "source": [
    "l3"
   ]
  },
  {
   "cell_type": "code",
   "execution_count": 102,
   "id": "b739966b-248f-4c6e-9ece-50d9a84ab4c1",
   "metadata": {},
   "outputs": [
    {
     "data": {
      "text/plain": [
       "'varsha'"
      ]
     },
     "execution_count": 102,
     "metadata": {},
     "output_type": "execute_result"
    }
   ],
   "source": [
    "# pop is used for the remove or delete the elment using index\n",
    "l3.pop(2)"
   ]
  },
  {
   "cell_type": "code",
   "execution_count": 103,
   "id": "65924901-9b30-4714-bd72-137243f2563e",
   "metadata": {},
   "outputs": [
    {
     "data": {
      "text/plain": [
       "['aman', 'raja']"
      ]
     },
     "execution_count": 103,
     "metadata": {},
     "output_type": "execute_result"
    }
   ],
   "source": [
    "l3"
   ]
  },
  {
   "cell_type": "code",
   "execution_count": 104,
   "id": "071c7d34-9905-47b2-b17b-bbddbaff206a",
   "metadata": {},
   "outputs": [],
   "source": [
    "# remove used for the removing the element \n",
    "l3.remove(\"aman\")"
   ]
  },
  {
   "cell_type": "code",
   "execution_count": 105,
   "id": "3153c8a9-65b5-4901-a579-36d9fc5e3f24",
   "metadata": {},
   "outputs": [
    {
     "data": {
      "text/plain": [
       "['raja']"
      ]
     },
     "execution_count": 105,
     "metadata": {},
     "output_type": "execute_result"
    }
   ],
   "source": [
    "l3"
   ]
  },
  {
   "cell_type": "code",
   "execution_count": 106,
   "id": "b3ec291e-a364-4b79-b6c4-46dd508d00ad",
   "metadata": {},
   "outputs": [
    {
     "ename": "ValueError",
     "evalue": "list.remove(x): x not in list",
     "output_type": "error",
     "traceback": [
      "\u001b[0;31m---------------------------------------------------------------------------\u001b[0m",
      "\u001b[0;31mValueError\u001b[0m                                Traceback (most recent call last)",
      "Cell \u001b[0;32mIn[106], line 1\u001b[0m\n\u001b[0;32m----> 1\u001b[0m \u001b[43ml3\u001b[49m\u001b[38;5;241;43m.\u001b[39;49m\u001b[43mremove\u001b[49m\u001b[43m(\u001b[49m\u001b[38;5;124;43m\"\u001b[39;49m\u001b[38;5;124;43mbagh\u001b[39;49m\u001b[38;5;124;43m\"\u001b[39;49m\u001b[43m)\u001b[49m\n",
      "\u001b[0;31mValueError\u001b[0m: list.remove(x): x not in list"
     ]
    }
   ],
   "source": [
    "l3.remove(\"bagh\")"
   ]
  },
  {
   "cell_type": "code",
   "execution_count": 107,
   "id": "d2768966-de64-45fa-919f-8baf62662172",
   "metadata": {},
   "outputs": [],
   "source": [
    "l3.append(l1)"
   ]
  },
  {
   "cell_type": "code",
   "execution_count": 108,
   "id": "65862159-0d53-4364-a15a-279155e185be",
   "metadata": {},
   "outputs": [
    {
     "data": {
      "text/plain": [
       "['raja', [1, 'varsha', 'varsha', 2, 3, 4, 5, 6, 7, 8, 9]]"
      ]
     },
     "execution_count": 108,
     "metadata": {},
     "output_type": "execute_result"
    }
   ],
   "source": [
    "l3"
   ]
  },
  {
   "cell_type": "code",
   "execution_count": 110,
   "id": "685effad-6740-4bec-a27a-15254ed113bc",
   "metadata": {},
   "outputs": [
    {
     "ename": "TypeError",
     "evalue": "'list' object cannot be interpreted as an integer",
     "output_type": "error",
     "traceback": [
      "\u001b[0;31m---------------------------------------------------------------------------\u001b[0m",
      "\u001b[0;31mTypeError\u001b[0m                                 Traceback (most recent call last)",
      "Cell \u001b[0;32mIn[110], line 1\u001b[0m\n\u001b[0;32m----> 1\u001b[0m \u001b[43ml3\u001b[49m\u001b[38;5;241;43m.\u001b[39;49m\u001b[43mpop\u001b[49m\u001b[43m(\u001b[49m\u001b[43ml3\u001b[49m\u001b[43m[\u001b[49m\u001b[38;5;241;43m1\u001b[39;49m\u001b[43m]\u001b[49m\u001b[43m)\u001b[49m[\u001b[38;5;241m1\u001b[39m:\u001b[38;5;241m3\u001b[39m]\n",
      "\u001b[0;31mTypeError\u001b[0m: 'list' object cannot be interpreted as an integer"
     ]
    }
   ],
   "source": [
    "l3.pop(l3[1])[1:3]"
   ]
  },
  {
   "cell_type": "code",
   "execution_count": null,
   "id": "beee2c8f-1b8d-4cb8-9062-287b6fa189e8",
   "metadata": {},
   "outputs": [],
   "source": []
  }
 ],
 "metadata": {
  "kernelspec": {
   "display_name": "Python 3 (ipykernel)",
   "language": "python",
   "name": "python3"
  },
  "language_info": {
   "codemirror_mode": {
    "name": "ipython",
    "version": 3
   },
   "file_extension": ".py",
   "mimetype": "text/x-python",
   "name": "python",
   "nbconvert_exporter": "python",
   "pygments_lexer": "ipython3",
   "version": "3.10.8"
  }
 },
 "nbformat": 4,
 "nbformat_minor": 5
}
