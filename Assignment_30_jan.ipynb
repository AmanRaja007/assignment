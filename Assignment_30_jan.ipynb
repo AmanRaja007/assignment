{
 "cells": [
  {
   "cell_type": "markdown",
   "id": "9aa64e6d-cf7d-4993-a88a-5165f8c82288",
   "metadata": {},
   "source": [
    "ASSIGNMENT 2"
   ]
  },
  {
   "cell_type": "markdown",
   "id": "18be2871-fded-4f49-9f3f-4bd52f90b5ac",
   "metadata": {},
   "source": [
    "Question 1.\n",
    "Write a program to accept percentage from the user and display the grade according to \n",
    "the following criteria:\n",
    "marks          Grade \n",
    "> 90             A\n",
    ">80 and <=90     B\n",
    ">=60 and <=80    C\n",
    "below 60         D"
   ]
  },
  {
   "cell_type": "code",
   "execution_count": 2,
   "id": "d6a534d9-aa8b-4f3b-af3b-b02c85bd751f",
   "metadata": {},
   "outputs": [
    {
     "name": "stdin",
     "output_type": "stream",
     "text": [
      "Enter your marks for calculating grade: 85\n"
     ]
    },
    {
     "name": "stdout",
     "output_type": "stream",
     "text": [
      "You Got Grade 'B' \n"
     ]
    }
   ],
   "source": [
    "#Solution\n",
    "marks = int(input(\"Enter your marks for calculating grade:\"))\n",
    "if marks > 90:\n",
    "    print(\"You Got Grade 'A'\")\n",
    "elif marks > 80 and marks <= 90:\n",
    "          print(\"You Got Grade 'B' \")\n",
    "elif marks >=60 and marks<= 80:\n",
    "    print(\"You Got Grade 'C' \")\n",
    "else:\n",
    "    print(\"You Got Grade 'D' \")"
   ]
  },
  {
   "cell_type": "markdown",
   "id": "fcb9596b-d26d-4c03-b4d9-c30702453c05",
   "metadata": {},
   "source": [
    "Question 2.\n",
    "Write a program to accept the cost price of a bike and display\n",
    "the road tax to be paid according to the following criteria:\n",
    "Tax            cost Price(in Rs)          \n",
    "15%              >100000\n",
    "10%              >50000 and <= 100000\n",
    "5%               <= 50000 "
   ]
  },
  {
   "cell_type": "code",
   "execution_count": 15,
   "id": "a0271dd6-ee1a-421e-9b9d-14041ee56f8d",
   "metadata": {},
   "outputs": [
    {
     "name": "stdin",
     "output_type": "stream",
     "text": [
      "Enter the cost price of the bike:  65000\n"
     ]
    },
    {
     "name": "stdout",
     "output_type": "stream",
     "text": [
      "You should have to pay 10% of tax\n"
     ]
    }
   ],
   "source": [
    "#Solution\n",
    "cost_price = int(input(\"Enter the cost price of the bike: \"))\n",
    "if cost_price >100000:\n",
    "    print(\"You should have to pay 15% of tax\")\n",
    "elif cost_price >50000 and cost_price <= 100000:\n",
    "    print(\"You should have to pay 10% of tax\")\n",
    "else:\n",
    "    print(\"You should have to pay 5 % of tax\")"
   ]
  },
  {
   "cell_type": "markdown",
   "id": "2a5ae5fa-d4a3-4fdd-a5ce-31a76da7603e",
   "metadata": {},
   "source": [
    "Question 3.\n",
    "Accept any city from the user and display monuments of that city.\n",
    "City             Monument\n",
    "Delhi            Red Fort\n",
    "Agra             Taj Mahal\n",
    "Jaipur           Jal Mahal"
   ]
  },
  {
   "cell_type": "code",
   "execution_count": 30,
   "id": "4f6238ef-37ac-4f6f-a7dd-2c038050b86f",
   "metadata": {},
   "outputs": [
    {
     "name": "stdin",
     "output_type": "stream",
     "text": [
      "Enter the city for monuments:  DELhi\n"
     ]
    },
    {
     "name": "stdout",
     "output_type": "stream",
     "text": [
      "Red Fort\n"
     ]
    }
   ],
   "source": [
    "#Solution\n",
    "city = str(input(\"Enter the city for monuments: \"))\n",
    "c = city.title()\n",
    "if c == \"Delhi\":\n",
    "    print(\"Red Fort\")\n",
    "elif c == \"Agra\":\n",
    "    print(\"Taj Mahal\")\n",
    "elif c == \"Jaipur\":\n",
    "    print(\"Jal Mahal\")\n",
    "else:\n",
    "    print(\"Try again .. by typing proper spelling\")"
   ]
  },
  {
   "cell_type": "markdown",
   "id": "1f1d9fe1-a983-40c3-80f8-5df6e831978c",
   "metadata": {},
   "source": [
    "Question 4.\n",
    "Check how many times  a given number can be divided by 3 before it is less\n",
    "than or equal to 10."
   ]
  },
  {
   "cell_type": "code",
   "execution_count": 3,
   "id": "709a0f82-8f48-4829-9ecc-a690b547001d",
   "metadata": {},
   "outputs": [
    {
     "name": "stdout",
     "output_type": "stream",
     "text": [
      "Here the no is divisible by 5 times\n"
     ]
    }
   ],
   "source": [
    "#Solution\n",
    "num = 1450\n",
    "count = 0\n",
    "while num >= 10:\n",
    "    num = num / 3\n",
    "    count = count + 1\n",
    "print(f\"Here the no is divisible by {count} times\")\n",
    "        "
   ]
  },
  {
   "cell_type": "markdown",
   "id": "9878eb74-0957-47ed-9c3d-9cad2ab3ee93",
   "metadata": {},
   "source": [
    "Question 5.\n",
    "Why and when to use to while loop in python give a detailed discription with example\n"
   ]
  },
  {
   "cell_type": "code",
   "execution_count": null,
   "id": "99866c5e-6562-45e4-a25c-90b7a267bc27",
   "metadata": {},
   "outputs": [],
   "source": [
    "#Solution\n",
    "Python while loop is used to run a block of code until a certian condition is met.\n",
    "While loops are best suited when you do not know ahead of time the number of iterations \n",
    "that you need to do. When you know this before entering the loop you can use for loop.\n",
    "for example: a program to display numbers from 1 to 5"
   ]
  },
  {
   "cell_type": "code",
   "execution_count": 1,
   "id": "f93eba00-ceaf-4d60-b168-e31e2f1c24c9",
   "metadata": {},
   "outputs": [
    {
     "name": "stdout",
     "output_type": "stream",
     "text": [
      "1\n",
      "2\n",
      "3\n",
      "4\n",
      "5\n"
     ]
    }
   ],
   "source": [
    "i = 1 \n",
    "n = 5\n",
    "while i<=n:\n",
    "    print(i)\n",
    "    i = i + 1"
   ]
  },
  {
   "cell_type": "markdown",
   "id": "747417eb-0b0d-4638-95d0-60c5e1bc3222",
   "metadata": {},
   "source": [
    "Question 6. \n",
    "Use nested while loop to print three different patterns. "
   ]
  },
  {
   "cell_type": "code",
   "execution_count": 11,
   "id": "016fbd3a-2a11-48c6-9dd0-c8ecfd426175",
   "metadata": {},
   "outputs": [
    {
     "name": "stdout",
     "output_type": "stream",
     "text": [
      "* \n",
      "* * \n",
      "* * * \n",
      "* * * * \n",
      "* * * * * \n",
      "* * * * * * \n"
     ]
    }
   ],
   "source": [
    "#Right triangle\n",
    "i = 0\n",
    "while i <= 5:\n",
    "    j = 0\n",
    "    while j <= i:\n",
    "        print(\"*\",end = \" \")\n",
    "        j = j + 1\n",
    "    print()\n",
    "    i = i + 1\n",
    "    "
   ]
  },
  {
   "cell_type": "code",
   "execution_count": 11,
   "id": "c1399026-4649-492d-b3a6-469a24369e33",
   "metadata": {},
   "outputs": [
    {
     "name": "stdout",
     "output_type": "stream",
     "text": [
      "* * * * * \n",
      "* * * * \n",
      "* * * \n",
      "* * \n",
      "* \n"
     ]
    }
   ],
   "source": [
    "#Inverted right triangle \n",
    "i = 5 \n",
    "while i >= 1:\n",
    "    j = 1\n",
    "    while j <= i:\n",
    "        print(\"*\",end = \" \")\n",
    "        j = j + 1\n",
    "    print()\n",
    "    i = i - 1"
   ]
  },
  {
   "cell_type": "code",
   "execution_count": 21,
   "id": "fc7e3db3-8323-4563-8769-63225ff9f79f",
   "metadata": {},
   "outputs": [
    {
     "name": "stdout",
     "output_type": "stream",
     "text": [
      "         *\n",
      "       * *\n",
      "     * * *\n",
      "   * * * *\n",
      " * * * * *\n"
     ]
    }
   ],
   "source": [
    "# left angled traingle \n",
    "i = 1\n",
    "while i <= 5:\n",
    "    j = 1\n",
    "    while j <= 5:\n",
    "        if i+j <= 5:\n",
    "            print(\"  \",end = \"\")\n",
    "        else:\n",
    "            print(\" *\",end = \"\")\n",
    "        j = j + 1\n",
    "    print()\n",
    "    i = i + 1"
   ]
  },
  {
   "cell_type": "markdown",
   "id": "94697180-cbc7-4e60-a8a6-ad4c81a62b6c",
   "metadata": {},
   "source": [
    "Question 7. and also same as the Question 8.\n",
    "Reverse a while loop to display numbers from 10 to 1."
   ]
  },
  {
   "cell_type": "code",
   "execution_count": 1,
   "id": "7761924c-7da0-44ba-b7f0-f4506a97dfc7",
   "metadata": {},
   "outputs": [
    {
     "name": "stdout",
     "output_type": "stream",
     "text": [
      "10\n",
      "9\n",
      "8\n",
      "7\n",
      "6\n",
      "5\n",
      "4\n",
      "3\n",
      "2\n",
      "1\n"
     ]
    }
   ],
   "source": [
    "i = 10 \n",
    "while i >= 1:\n",
    "    print(i)\n",
    "    i = i - 1 "
   ]
  },
  {
   "cell_type": "code",
   "execution_count": null,
   "id": "4ee4abeb-6c1b-4eb8-a043-acdf39007952",
   "metadata": {},
   "outputs": [],
   "source": []
  }
 ],
 "metadata": {
  "kernelspec": {
   "display_name": "Python 3 (ipykernel)",
   "language": "python",
   "name": "python3"
  },
  "language_info": {
   "codemirror_mode": {
    "name": "ipython",
    "version": 3
   },
   "file_extension": ".py",
   "mimetype": "text/x-python",
   "name": "python",
   "nbconvert_exporter": "python",
   "pygments_lexer": "ipython3",
   "version": "3.10.8"
  }
 },
 "nbformat": 4,
 "nbformat_minor": 5
}
